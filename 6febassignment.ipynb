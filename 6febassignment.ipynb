{
 "cells": [
  {
   "cell_type": "code",
   "execution_count": 1,
   "id": "b84c5c0a-d3a2-4f25-acb3-c1c71b5ea297",
   "metadata": {},
   "outputs": [
    {
     "name": "stdout",
     "output_type": "stream",
     "text": [
      "29194260480\n"
     ]
    }
   ],
   "source": [
    "\n",
    "def product(list1):\n",
    "    pro= 1\n",
    "    for j in list1:\n",
    "        if isinstance(j, (int,float)):\n",
    "            pro = pro*j\n",
    "    return pro\n",
    "\n",
    "\n",
    "list1= [1,2,3,4,[44,55,66,True], 1,(34,56,78,89,34),{1,2,3,3,2,1},{1:34,\"key2\":[55,67,78,89],4:(45,22,61,34)},\n",
    "   [56,'data science'],'Machine Learning']\n",
    "\n",
    "flat_list= []\n",
    "for i in list1:\n",
    "    if type(i)== list:\n",
    "        flat_list.extend(i)\n",
    "    elif type(i) == dict:\n",
    "        flat_list.extend(i.keys())\n",
    "        flat_list.extend(i.values())\n",
    "    else:\n",
    "        flat_list.append(i)\n",
    "\n",
    "\n",
    "print(product(flat_list))"
   ]
  },
  {
   "cell_type": "code",
   "execution_count": 2,
   "id": "332eee8e-d6b0-4180-9b57-b9c17a85fa2a",
   "metadata": {},
   "outputs": [],
   "source": [
    "def encrypt_message(message):\n",
    "    # convert message to lowercase\n",
    "    message = message.lower()\n",
    "\n",
    "    encrypted_message = \"\"\n",
    "    for char in message:\n",
    "        if char.isalpha():\n",
    "            # convert letter to its corresponding encrypted letter\n",
    "            encrypted_char = chr(ord('a') + (ord('z') - ord(char)))\n",
    "        elif char == \" \":\n",
    "            # replace whitespace with dollar sign\n",
    "            encrypted_char = \"$\"\n",
    "        else:\n",
    "            # keep punctuation marks unchanged\n",
    "            encrypted_char = char\n",
    "        encrypted_message += encrypted_char\n",
    "\n",
    "    return encrypted_message\n"
   ]
  },
  {
   "cell_type": "code",
   "execution_count": 3,
   "id": "c8f49816-3523-4aee-96bd-caf72fc7fae1",
   "metadata": {},
   "outputs": [
    {
     "name": "stdout",
     "output_type": "stream",
     "text": [
      "r$dzmg$gl$yvxlnv$z$wzgz$hxrvmgrhg.\n"
     ]
    }
   ],
   "source": [
    "message = \"I want to become a Data Scientist.\"\n",
    "encrypted_message = encrypt_message(message)\n",
    "print(encrypted_message)"
   ]
  },
  {
   "cell_type": "code",
   "execution_count": null,
   "id": "78658447-9bdc-4741-b81f-103b3d061579",
   "metadata": {},
   "outputs": [],
   "source": []
  }
 ],
 "metadata": {
  "kernelspec": {
   "display_name": "Python 3 (ipykernel)",
   "language": "python",
   "name": "python3"
  },
  "language_info": {
   "codemirror_mode": {
    "name": "ipython",
    "version": 3
   },
   "file_extension": ".py",
   "mimetype": "text/x-python",
   "name": "python",
   "nbconvert_exporter": "python",
   "pygments_lexer": "ipython3",
   "version": "3.10.8"
  }
 },
 "nbformat": 4,
 "nbformat_minor": 5
}
